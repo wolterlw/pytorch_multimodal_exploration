{
 "cells": [
  {
   "cell_type": "code",
   "execution_count": 1,
   "metadata": {
    "collapsed": true
   },
   "outputs": [],
   "source": [
    "import numpy as np\n",
    "import torch as pt\n",
    "from torch import nn,autograd\n",
    "from torch.autograd import Variable"
   ]
  },
  {
   "cell_type": "code",
   "execution_count": 3,
   "metadata": {},
   "outputs": [
    {
     "name": "stdout",
     "output_type": "stream",
     "text": [
      "(2, 5, 3)\n"
     ]
    },
    {
     "data": {
      "text/plain": [
       "array([[[0, 1, 0],\n",
       "        [0, 1, 0],\n",
       "        [1, 0, 0],\n",
       "        [1, 1, 0],\n",
       "        [0, 0, 1]],\n",
       "\n",
       "       [[1, 0, 0],\n",
       "        [0, 1, 1],\n",
       "        [0, 0, 0],\n",
       "        [1, 1, 0],\n",
       "        [0, 0, 1]]])"
      ]
     },
     "execution_count": 3,
     "metadata": {},
     "output_type": "execute_result"
    }
   ],
   "source": [
    "X = np.array([[[0,1,0,0,1],\n",
    "              [0,1,0,0,1],\n",
    "              [1,0,0,0,1]],\n",
    "             [[1,0,0,0,1],\n",
    "              [1,0,0,0,1],\n",
    "              [1,0,0,0,1]]])\n",
    "X = X.reshape(2,5,3)\n",
    "print(X.shape)\n",
    "X"
   ]
  },
  {
   "cell_type": "code",
   "execution_count": 4,
   "metadata": {
    "collapsed": true
   },
   "outputs": [],
   "source": [
    "Xt = pt.from_numpy(X).type(pt.FloatTensor)"
   ]
  },
  {
   "cell_type": "code",
   "execution_count": 5,
   "metadata": {},
   "outputs": [],
   "source": [
    "m = nn.Conv1d(5, 2, 1,padding=0)\n",
    "input_ = Variable(Xt)"
   ]
  },
  {
   "cell_type": "code",
   "execution_count": 6,
   "metadata": {},
   "outputs": [
    {
     "data": {
      "text/plain": [
       "\n",
       "(0 ,.,.) = \n",
       "  0  1  0\n",
       "  0  1  0\n",
       "  1  0  0\n",
       "  1  1  0\n",
       "  0  0  1\n",
       "\n",
       "(1 ,.,.) = \n",
       "  1  0  0\n",
       "  0  1  1\n",
       "  0  0  0\n",
       "  1  1  0\n",
       "  0  0  1\n",
       "[torch.FloatTensor of size 2x5x3]"
      ]
     },
     "execution_count": 6,
     "metadata": {},
     "output_type": "execute_result"
    }
   ],
   "source": [
    "Xt"
   ]
  },
  {
   "cell_type": "code",
   "execution_count": 9,
   "metadata": {},
   "outputs": [
    {
     "data": {
      "text/plain": [
       "Variable containing:\n",
       "(0 ,.,.) = \n",
       "  1.3741  0.3741  0.3741\n",
       " -0.2942 -0.2942 -0.2942\n",
       "\n",
       "(1 ,.,.) = \n",
       "  0.3741  0.3741  0.3741\n",
       " -0.2942 -0.2942 -0.2942\n",
       "[torch.FloatTensor of size 2x2x3]"
      ]
     },
     "execution_count": 9,
     "metadata": {},
     "output_type": "execute_result"
    }
   ],
   "source": [
    "output = m(Variable(Xt))\n",
    "output"
   ]
  },
  {
   "cell_type": "code",
   "execution_count": 8,
   "metadata": {},
   "outputs": [],
   "source": [
    "m.weight.data = pt.from_numpy(\n",
    "    np.array([[[0],[0],[1],[0],[0]],[[0],[0],[0],[0],[0]]])\n",
    ").type(pt.FloatTensor)"
   ]
  },
  {
   "cell_type": "code",
   "execution_count": 8,
   "metadata": {},
   "outputs": [
    {
     "data": {
      "text/plain": [
       "Parameter containing:\n",
       "(0 ,.,.) = \n",
       "  0\n",
       "  0\n",
       "  1\n",
       "  0\n",
       "  0\n",
       "\n",
       "(1 ,.,.) = \n",
       "  0\n",
       "  0\n",
       "  0\n",
       "  0\n",
       "  0\n",
       "[torch.FloatTensor of size 2x5x1]"
      ]
     },
     "execution_count": 8,
     "metadata": {},
     "output_type": "execute_result"
    }
   ],
   "source": [
    "m.weight"
   ]
  },
  {
   "cell_type": "markdown",
   "metadata": {
    "collapsed": true
   },
   "source": [
    "### Road to actual Math Econ network"
   ]
  },
  {
   "cell_type": "markdown",
   "metadata": {
    "collapsed": true
   },
   "source": [
    "input data"
   ]
  },
  {
   "cell_type": "code",
   "execution_count": 2,
   "metadata": {
    "collapsed": true
   },
   "outputs": [],
   "source": [
    "def RuleGenerator(\n",
    "    days=[0,0,0,0,0],\n",
    "    products=[[0],[0],[0],[0],[0]],\n",
    "    hours_of_preference=[9,16,9,16,9]\n",
    "                 ):\n",
    "    A = np.zeros((5,20))\n",
    "    b = np.zeros((5,7))\n",
    "    for i,d in enumerate(days,0):\n",
    "        b[i][d] = hours_of_preference[i] + np.random.randint(0,4)\n",
    "    for i,pl in enumerate(products,0):\n",
    "        for p in pl:\n",
    "            A[i,p] = 1\n",
    "    return ([A[0:4][np.newaxis,:,:],b[0:4][np.newaxis,:,:]],\n",
    "            [A[4].reshape(1,-1)[np.newaxis,:,:],b[4].reshape(1,-1)[np.newaxis,:,:]])"
   ]
  },
  {
   "cell_type": "code",
   "execution_count": 3,
   "metadata": {},
   "outputs": [],
   "source": [
    "res = RuleGenerator(\n",
    "    [1,2,3,1,2],\n",
    "    [[1,2,3],[1,2,3,7],[1,2,3],[1,2,3,19],[1,2,3]]\n",
    ")"
   ]
  },
  {
   "cell_type": "code",
   "execution_count": 159,
   "metadata": {},
   "outputs": [],
   "source": [
    "class InstaNet(nn.Module):\n",
    "    def __init__(self,batch_size,n_feat=20):\n",
    "        super(InstaNet,self).__init__()\n",
    "        self.batch_size = batch_size\n",
    "        self.hidden = (Variable(pt.zeros(3,self.batch_size,15)),\n",
    "                       Variable(pt.zeros(3,self.batch_size,15)))\n",
    "        self.conv1 = nn.Conv1d(n_feat,15,1)\n",
    "        self.conv2 = nn.Conv1d(15,10,1)\n",
    "        self.lstm = nn.LSTM(10+7,15,3,batch_first=True)\n",
    "        self.fcn0 = nn.Linear(4*15,300)\n",
    "        self.fcn1 = nn.Linear(300,20)\n",
    "        self.ReLU = nn.ReLU().forward\n",
    "        \n",
    "    def forward(self,x):\n",
    "        out = self.conv1(x[0])\n",
    "        out = self.ReLU(out)\n",
    "        out = self.conv2(out)\n",
    "        out = self.ReLU(out)\n",
    "        out = pt.cat([out,x[1]],dim=1)\n",
    "        out,self.hidden = self.lstm(out.transpose(2,1),self.hidden)\n",
    "        out = self.fcn0(\n",
    "            out.resize(self.batch_size,15*4)\n",
    "        )\n",
    "        out = self.ReLU(out)\n",
    "        out = self.fcn1(out)\n",
    "        out = nn.Sigmoid()(out)\n",
    "        return out\n",
    "    \n",
    "    def init_hidden(self):\n",
    "        self.hidden = (Variable(pt.zeros(3,self.batch_size,15)),\n",
    "                       Variable(pt.zeros(3,self.batch_size,15)))"
   ]
  },
  {
   "cell_type": "markdown",
   "metadata": {},
   "source": [
    "## dummy dataset creation"
   ]
  },
  {
   "cell_type": "code",
   "execution_count": 9,
   "metadata": {
    "collapsed": true
   },
   "outputs": [],
   "source": [
    "X1 = res[0][0]"
   ]
  },
  {
   "cell_type": "code",
   "execution_count": 10,
   "metadata": {},
   "outputs": [],
   "source": [
    "X2 = res[0][1]"
   ]
  },
  {
   "cell_type": "code",
   "execution_count": 11,
   "metadata": {},
   "outputs": [],
   "source": [
    "X1_t,X2_t = res[1][0],res[1][1]"
   ]
  },
  {
   "cell_type": "code",
   "execution_count": 13,
   "metadata": {},
   "outputs": [
    {
     "data": {
      "text/plain": [
       "(2, 4, 20)"
      ]
     },
     "execution_count": 13,
     "metadata": {},
     "output_type": "execute_result"
    }
   ],
   "source": [
    "np.r_[res[0][0],res[0][0]].shape"
   ]
  },
  {
   "cell_type": "code",
   "execution_count": 16,
   "metadata": {
    "collapsed": true
   },
   "outputs": [],
   "source": [
    "X1s = []\n",
    "X2s = []\n",
    "X1ts = []\n",
    "X2ts = []"
   ]
  },
  {
   "cell_type": "code",
   "execution_count": 17,
   "metadata": {},
   "outputs": [],
   "source": [
    "for i in range(200):\n",
    "    res = RuleGenerator(\n",
    "        [1,2,3,1,2],\n",
    "        [[1,2,3],[1,2,3,7],[1,2,3],[1,2,3,19],[1,2,3]]\n",
    "    )\n",
    "    X1s.append(res[0][0])\n",
    "    X2s.append(res[0][1])\n",
    "    X1ts.append(res[1][0])\n",
    "    X2ts.append(res[1][1])"
   ]
  },
  {
   "cell_type": "code",
   "execution_count": 18,
   "metadata": {
    "collapsed": true
   },
   "outputs": [],
   "source": [
    "for i in range(300):\n",
    "    res = RuleGenerator(\n",
    "        [2,5,5,2,5],\n",
    "        [[11,17,19],[11,17,19,8],[11,17,19,8,3],[11,17,18,19],[11,17,18,19]]\n",
    "    )\n",
    "    X1s.append(res[0][0])\n",
    "    X2s.append(res[0][1])\n",
    "    X1ts.append(res[1][0])\n",
    "    X2ts.append(res[1][1])"
   ]
  },
  {
   "cell_type": "code",
   "execution_count": 19,
   "metadata": {
    "collapsed": true
   },
   "outputs": [],
   "source": [
    "for i in range(200):\n",
    "    res = RuleGenerator(\n",
    "        [1,2,5,1,2],\n",
    "        [[4,8,15],[4,8,15,17],[4,8,15,17,3],[4,8,15,17],[4,1,8,15]]\n",
    "    )\n",
    "    X1s.append(res[0][0])\n",
    "    X2s.append(res[0][1])\n",
    "    X1ts.append(res[1][0])\n",
    "    X2ts.append(res[1][1])"
   ]
  },
  {
   "cell_type": "code",
   "execution_count": 21,
   "metadata": {},
   "outputs": [],
   "source": [
    "X1 = pt.from_numpy(np.r_[X1s].reshape(-1,4,20)).type(pt.FloatTensor)\n",
    "X2 = pt.from_numpy(np.r_[X2s].reshape(-1,4,7)).type(pt.FloatTensor)\n",
    "X1t = pt.from_numpy(np.r_[X1ts].reshape(-1,1,20)).type(pt.FloatTensor)\n",
    "X2t = pt.from_numpy(np.r_[X2ts].reshape(-1,1,7)).type(pt.FloatTensor)"
   ]
  },
  {
   "cell_type": "code",
   "execution_count": 168,
   "metadata": {},
   "outputs": [],
   "source": [
    "criterion = pt.nn.NLLLoss()\n",
    "optimizer = pt.optim.Adam(inst.parameters(),lr=0.01)\n",
    "inst = InstaNet(100)"
   ]
  },
  {
   "cell_type": "code",
   "execution_count": 169,
   "metadata": {
    "collapsed": true
   },
   "outputs": [],
   "source": [
    "def random_sampler(dataset_size,batch_size=100):\n",
    "    i = np.random.randint(0,dataset_size-batch_size)\n",
    "    return (i,i+batch_size)"
   ]
  },
  {
   "cell_type": "code",
   "execution_count": 170,
   "metadata": {},
   "outputs": [
    {
     "name": "stdout",
     "output_type": "stream",
     "text": [
      "Variable containing:\n",
      " 0.5113  0.5055  0.5090  ...   0.4772  0.5098  0.5006\n",
      " 0.5113  0.5055  0.5090  ...   0.4772  0.5098  0.5006\n",
      " 0.5113  0.5055  0.5090  ...   0.4772  0.5098  0.5006\n",
      "          ...             ⋱             ...          \n",
      " 0.5089  0.5046  0.5078  ...   0.4790  0.5089  0.4996\n",
      " 0.5089  0.5046  0.5078  ...   0.4790  0.5089  0.4996\n",
      " 0.5089  0.5046  0.5078  ...   0.4790  0.5089  0.4996\n",
      "[torch.FloatTensor of size 100x20]\n",
      "\n",
      "Variable containing:\n",
      " 0.5113  0.5055  0.5090  ...   0.4772  0.5098  0.5006\n",
      " 0.5113  0.5055  0.5090  ...   0.4772  0.5098  0.5006\n",
      " 0.5113  0.5055  0.5090  ...   0.4772  0.5098  0.5006\n",
      "          ...             ⋱             ...          \n",
      " 0.5089  0.5046  0.5078  ...   0.4789  0.5089  0.4997\n",
      " 0.5089  0.5046  0.5078  ...   0.4789  0.5088  0.4997\n",
      " 0.5089  0.5046  0.5078  ...   0.4789  0.5088  0.4997\n",
      "[torch.FloatTensor of size 100x20]\n",
      "\n",
      "Variable containing:\n",
      " 0.5113  0.5055  0.5090  ...   0.4772  0.5098  0.5006\n",
      " 0.5113  0.5055  0.5090  ...   0.4772  0.5098  0.5006\n",
      " 0.5113  0.5055  0.5090  ...   0.4772  0.5098  0.5006\n",
      "          ...             ⋱             ...          \n",
      " 0.5089  0.5046  0.5078  ...   0.4789  0.5088  0.4997\n",
      " 0.5089  0.5046  0.5078  ...   0.4789  0.5089  0.4997\n",
      " 0.5089  0.5046  0.5078  ...   0.4789  0.5088  0.4997\n",
      "[torch.FloatTensor of size 100x20]\n",
      "\n",
      "Variable containing:\n",
      " 0.5113  0.5055  0.5090  ...   0.4772  0.5098  0.5006\n",
      " 0.5113  0.5055  0.5090  ...   0.4772  0.5098  0.5006\n",
      " 0.5113  0.5055  0.5090  ...   0.4772  0.5098  0.5006\n",
      "          ...             ⋱             ...          \n",
      " 0.5089  0.5046  0.5078  ...   0.4789  0.5089  0.4997\n",
      " 0.5089  0.5046  0.5078  ...   0.4789  0.5088  0.4997\n",
      " 0.5089  0.5046  0.5078  ...   0.4789  0.5088  0.4997\n",
      "[torch.FloatTensor of size 100x20]\n",
      "\n",
      "Variable containing:\n",
      " 0.5113  0.5055  0.5090  ...   0.4772  0.5098  0.5006\n",
      " 0.5113  0.5055  0.5090  ...   0.4772  0.5098  0.5006\n",
      " 0.5113  0.5055  0.5090  ...   0.4772  0.5098  0.5006\n",
      "          ...             ⋱             ...          \n",
      " 0.5089  0.5046  0.5078  ...   0.4789  0.5088  0.4997\n",
      " 0.5089  0.5046  0.5078  ...   0.4789  0.5088  0.4997\n",
      " 0.5089  0.5046  0.5078  ...   0.4789  0.5089  0.4997\n",
      "[torch.FloatTensor of size 100x20]\n",
      "\n",
      "Variable containing:\n",
      " 0.5113  0.5055  0.5090  ...   0.4772  0.5098  0.5006\n",
      " 0.5113  0.5055  0.5090  ...   0.4772  0.5098  0.5006\n",
      " 0.5113  0.5055  0.5090  ...   0.4772  0.5098  0.5006\n",
      "          ...             ⋱             ...          \n",
      " 0.5089  0.5046  0.5078  ...   0.4789  0.5088  0.4997\n",
      " 0.5089  0.5046  0.5078  ...   0.4789  0.5088  0.4997\n",
      " 0.5089  0.5046  0.5078  ...   0.4789  0.5088  0.4997\n",
      "[torch.FloatTensor of size 100x20]\n",
      "\n",
      "Variable containing:\n",
      " 0.5113  0.5055  0.5090  ...   0.4772  0.5098  0.5006\n",
      " 0.5113  0.5055  0.5090  ...   0.4772  0.5098  0.5006\n",
      " 0.5113  0.5055  0.5090  ...   0.4772  0.5098  0.5006\n",
      "          ...             ⋱             ...          \n",
      " 0.5089  0.5046  0.5078  ...   0.4789  0.5088  0.4997\n",
      " 0.5089  0.5046  0.5078  ...   0.4789  0.5088  0.4997\n",
      " 0.5089  0.5046  0.5078  ...   0.4789  0.5088  0.4997\n",
      "[torch.FloatTensor of size 100x20]\n",
      "\n",
      "Variable containing:\n",
      " 0.5113  0.5055  0.5090  ...   0.4772  0.5098  0.5007\n",
      " 0.5113  0.5055  0.5090  ...   0.4772  0.5098  0.5006\n",
      " 0.5113  0.5055  0.5090  ...   0.4772  0.5098  0.5006\n",
      "          ...             ⋱             ...          \n",
      " 0.5090  0.5046  0.5078  ...   0.4789  0.5089  0.4997\n",
      " 0.5090  0.5046  0.5078  ...   0.4789  0.5089  0.4997\n",
      " 0.5090  0.5046  0.5078  ...   0.4789  0.5089  0.4997\n",
      "[torch.FloatTensor of size 100x20]\n",
      "\n",
      "Variable containing:\n",
      " 0.5113  0.5055  0.5090  ...   0.4772  0.5098  0.5006\n",
      " 0.5113  0.5055  0.5090  ...   0.4772  0.5098  0.5006\n",
      " 0.5113  0.5055  0.5090  ...   0.4772  0.5098  0.5006\n",
      "          ...             ⋱             ...          \n",
      " 0.5089  0.5046  0.5078  ...   0.4789  0.5088  0.4997\n",
      " 0.5089  0.5046  0.5078  ...   0.4789  0.5089  0.4997\n",
      " 0.5089  0.5046  0.5078  ...   0.4789  0.5089  0.4997\n",
      "[torch.FloatTensor of size 100x20]\n",
      "\n",
      "Variable containing:\n",
      " 0.5113  0.5055  0.5090  ...   0.4772  0.5098  0.5006\n",
      " 0.5113  0.5055  0.5090  ...   0.4772  0.5098  0.5006\n",
      " 0.5113  0.5055  0.5090  ...   0.4772  0.5098  0.5006\n",
      "          ...             ⋱             ...          \n",
      " 0.5089  0.5046  0.5078  ...   0.4790  0.5089  0.4996\n",
      " 0.5089  0.5046  0.5078  ...   0.4790  0.5089  0.4996\n",
      " 0.5089  0.5046  0.5078  ...   0.4790  0.5089  0.4996\n",
      "[torch.FloatTensor of size 100x20]\n",
      "\n"
     ]
    }
   ],
   "source": [
    "for epoch in range(10):\n",
    "    optimizer.zero_grad()\n",
    "    inst.init_hidden()\n",
    "    i,j = random_sampler(700,100)\n",
    "    pred = inst([Variable(X1[i:j].transpose(2,1)),Variable((X2[i:j]/24).transpose(2,1))])\n",
    "    loss = criterion(pred.view(2000),Variable(X1t[i:j]).view(2000).type(pt.LongTensor))\n",
    "    loss.backward()\n",
    "    optimizer.step()\n",
    "    print(pred)"
   ]
  },
  {
   "cell_type": "code",
   "execution_count": null,
   "metadata": {
    "collapsed": true
   },
   "outputs": [],
   "source": []
  }
 ],
 "metadata": {
  "kernelspec": {
   "display_name": "Python 3",
   "language": "python",
   "name": "python3"
  },
  "language_info": {
   "codemirror_mode": {
    "name": "ipython",
    "version": 3
   },
   "file_extension": ".py",
   "mimetype": "text/x-python",
   "name": "python",
   "nbconvert_exporter": "python",
   "pygments_lexer": "ipython3",
   "version": "3.6.1"
  }
 },
 "nbformat": 4,
 "nbformat_minor": 2
}
